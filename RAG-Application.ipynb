{
 "cells": [
  {
   "cell_type": "markdown",
   "metadata": {},
   "source": [
    "# RAG Pipeline Demonstration\n",
    "\n",
    "This notebook walks through a retrieval-augmented generation (RAG) pipeline using LLaMA for Q&A on an HR policy PDF. We will:\n",
    "\n",
    "1. **Load and chunk** the PDF.\n",
    "2. **Embed** the chunks and upsert them into **Qdrant**.\n",
    "3. **Perform** a vector search and cross-encoder **reranking**.\n",
    "4. **Optionally** expand the context with less-similar but unique chunks.\n",
    "5. **Query** the LLaMA model to get a final answer.\n",
    "\n",
    "---\n",
    "\n",
    "## 1. Imports & Setup\n",
    "\n",
    "Below, we import the necessary libraries:\n",
    "\n",
    "- **Qdrant** client for storing/retrieving vector embeddings.\n",
    "- **LangChain** (or `langchain_community`) for loading PDFs, splitting text, and embedding.\n",
    "- **Transformers** for cross-encoder reranking and LLaMA model usage.\n",
    "- **Torch** for GPU support (if available).\n"
   ]
  },
  {
   "cell_type": "code",
   "execution_count": 1,
   "metadata": {},
   "outputs": [
    {
     "name": "stdout",
     "output_type": "stream",
     "text": [
      "Imports done.\n"
     ]
    }
   ],
   "source": [
    "import os\n",
    "import uuid\n",
    "from qdrant_client import QdrantClient\n",
    "from qdrant_client.models import VectorParams, Distance, PointStruct\n",
    "from langchain.text_splitter import CharacterTextSplitter\n",
    "from langchain_community.document_loaders import PyPDFLoader\n",
    "from langchain.embeddings import HuggingFaceEmbeddings\n",
    "from langchain.retrievers import ContextualCompressionRetriever\n",
    "from langchain.retrievers.document_compressors.chain_filter import LLMChainFilter\n",
    "from transformers import AutoTokenizer, AutoModelForCausalLM\n",
    "from langchain.document_loaders import PyPDFLoader\n",
    "from langchain.vectorstores import Qdrant\n",
    "import torch\n",
    "import torch\n",
    "from sklearn.metrics.pairwise import cosine_similarity\n",
    "import torch\n",
    "import numpy as np\n",
    "from langchain.retrievers import ContextualCompressionRetriever\n",
    "from langchain.retrievers.document_compressors.chain_filter import LLMChainFilter\n",
    "from transformers import pipeline\n",
    "from langchain_openai.embeddings import OpenAIEmbeddings\n",
    "from langchain_experimental.text_splitter import SemanticChunker\n",
    "from langchain_openai.embeddings import OpenAIEmbeddings\n",
    "from langchain_community.document_loaders import PyPDFLoader\n",
    "\n",
    "print(\"Imports done.\")"
   ]
  },
  {
   "cell_type": "markdown",
   "metadata": {},
   "source": [
    "## 2. LLaMA Model Initialization\n",
    "\n",
    "Here, we load a smaller LLaMA 3.2–3B Instruct model. Make sure you adjust:\n",
    "- **model_name** to the one you have locally or on your GPU.\n",
    "- Torch settings if you’re on CPU only (remove `bfloat16` if not supported).\n"
   ]
  },
  {
   "cell_type": "code",
   "execution_count": 2,
   "metadata": {},
   "outputs": [
    {
     "data": {
      "application/vnd.jupyter.widget-view+json": {
       "model_id": "b69df04228724160b6fa4d3cfefd135e",
       "version_major": 2,
       "version_minor": 0
      },
      "text/plain": [
       "Loading checkpoint shards:   0%|          | 0/2 [00:00<?, ?it/s]"
      ]
     },
     "metadata": {},
     "output_type": "display_data"
    },
    {
     "name": "stderr",
     "output_type": "stream",
     "text": [
      "WARNING:root:Some parameters are on the meta device device because they were offloaded to the cpu.\n"
     ]
    },
    {
     "name": "stdout",
     "output_type": "stream",
     "text": [
      "Loaded LLaMA model on device: cuda\n"
     ]
    }
   ],
   "source": [
    "model_name = \"meta-llama/Llama-3.2-3B-Instruct\"\n",
    "\n",
    "tokenizer = AutoTokenizer.from_pretrained(model_name, trust_remote_code=True)\n",
    "model = AutoModelForCausalLM.from_pretrained(\n",
    "    model_name,\n",
    "    torch_dtype=torch.bfloat16,\n",
    "    device_map=\"auto\",\n",
    "    trust_remote_code=True\n",
    ")\n",
    "\n",
    "device = torch.device(\"cuda\" if torch.cuda.is_available() else \"cpu\")\n",
    "print(f\"Loaded LLaMA model on device: {device}\")\n"
   ]
  },
  {
   "cell_type": "markdown",
   "metadata": {},
   "source": [
    "## 3. Qdrant Client & Embeddings\n",
    "\n",
    "- We connect to a remote Qdrant instance (edit the URL/API key as needed).\n",
    "- We create/refresh a collection name called `hr_policy_docs`.\n",
    "- We load a Hugging Face embedding model (`sentence-transformers/all-MiniLM-L6-v2`).\n",
    "- We also prepare a cross-encoder pipeline for reranking (`ms-marco-MiniLM-L-6-v2`).\n"
   ]
  },
  {
   "cell_type": "code",
   "execution_count": 3,
   "metadata": {},
   "outputs": [
    {
     "name": "stderr",
     "output_type": "stream",
     "text": [
      "C:\\Users\\HP\\AppData\\Local\\Temp\\ipykernel_19088\\4237173659.py:6: LangChainDeprecationWarning: The class `HuggingFaceEmbeddings` was deprecated in LangChain 0.2.2 and will be removed in 1.0. An updated version of the class exists in the :class:`~langchain-huggingface package and should be used instead. To use it run `pip install -U :class:`~langchain-huggingface` and import as `from :class:`~langchain_huggingface import HuggingFaceEmbeddings``.\n",
      "  embedding_model = HuggingFaceEmbeddings(model_name=\"sentence-transformers/all-MiniLM-L6-v2\")\n",
      "C:\\Users\\HP\\AppData\\Local\\Packages\\PythonSoftwareFoundation.Python.3.10_qbz5n2kfra8p0\\LocalCache\\local-packages\\Python310\\site-packages\\transformers\\tokenization_utils_base.py:1601: FutureWarning: `clean_up_tokenization_spaces` was not set. It will be set to `True` by default. This behavior will be depracted in transformers v4.45, and will be then set to `False` by default. For more details check this issue: https://github.com/huggingface/transformers/issues/31884\n",
      "  warnings.warn(\n"
     ]
    },
    {
     "name": "stdout",
     "output_type": "stream",
     "text": [
      "Collection deleted successfully.\n",
      "Created collection 'hr_policy_docs'.\n"
     ]
    }
   ],
   "source": [
    "qdrant_client = QdrantClient(\n",
    "    url=\"Quadrant_URL\",\n",
    "    api_key=\"YOUR_API_KEY\",\n",
    ")\n",
    "\n",
    "embedding_model = HuggingFaceEmbeddings(model_name=\"sentence-transformers/all-MiniLM-L6-v2\")\n",
    "\n",
    "reranker = pipeline(\n",
    "    \"text-classification\",\n",
    "    model=\"cross-encoder/ms-marco-MiniLM-L-6-v2\",\n",
    "    device=0 if torch.cuda.is_available() else -1\n",
    ")\n",
    "\n",
    "collection_name = \"hr_policy_docs\"\n",
    "\n",
    "# Delete and recreate the collection\n",
    "try:\n",
    "    qdrant_client.delete_collection(collection_name=collection_name)\n",
    "    print(\"Collection deleted successfully.\")\n",
    "except Exception as e:\n",
    "    print(f\"Collection deletion failed: {e}\")\n",
    "\n",
    "qdrant_client.create_collection(\n",
    "    collection_name=collection_name,\n",
    "    vectors_config=VectorParams(size=384, distance=Distance.COSINE)\n",
    ")\n",
    "\n",
    "print(f\"Created collection '{collection_name}'.\")"
   ]
  },
  {
   "cell_type": "markdown",
   "metadata": {},
   "source": [
    "## 4. PDF Loading & Splitting\n",
    "\n",
    "We load a local PDF (`HR-Policy-Document.pdf`) using `PyPDFLoader`, then use `CharacterTextSplitter` to break it into overlapping chunks for better retrieval resolution.\n"
   ]
  },
  {
   "cell_type": "code",
   "execution_count": 4,
   "metadata": {},
   "outputs": [
    {
     "name": "stdout",
     "output_type": "stream",
     "text": [
      "Loaded 53 pages and split into 53 chunks.\n"
     ]
    }
   ],
   "source": [
    "pdf_path = \"HR-Policy-Document.pdf\"  # Adjust if needed\n",
    "loader = PyPDFLoader(pdf_path)\n",
    "documents = loader.load()\n",
    "\n",
    "text_splitter = CharacterTextSplitter(chunk_size=1000, chunk_overlap=100)\n",
    "docs = text_splitter.split_documents(documents)\n",
    "texts = [doc.page_content for doc in docs]\n",
    "\n",
    "print(f\"Loaded {len(documents)} pages and split into {len(texts)} chunks.\")"
   ]
  },
  {
   "cell_type": "markdown",
   "metadata": {},
   "source": [
    "## 5. Embedding & Upsert to Qdrant\n",
    "\n",
    "We embed each chunk using `embedding_model.embed_documents(...)` and upsert them into Qdrant with payloads containing the chunk text.\n"
   ]
  },
  {
   "cell_type": "code",
   "execution_count": 5,
   "metadata": {},
   "outputs": [
    {
     "name": "stderr",
     "output_type": "stream",
     "text": [
      "C:\\Users\\HP\\AppData\\Local\\Packages\\PythonSoftwareFoundation.Python.3.10_qbz5n2kfra8p0\\LocalCache\\local-packages\\Python310\\site-packages\\transformers\\models\\bert\\modeling_bert.py:439: UserWarning: 1Torch was not compiled with flash attention. (Triggered internally at C:\\actions-runner\\_work\\pytorch\\pytorch\\builder\\windows\\pytorch\\aten\\src\\ATen\\native\\transformers\\cuda\\sdp_utils.cpp:555.)\n",
      "  attn_output = torch.nn.functional.scaled_dot_product_attention(\n"
     ]
    },
    {
     "name": "stdout",
     "output_type": "stream",
     "text": [
      "Indexed 53 chunks into Qdrant.\n"
     ]
    }
   ],
   "source": [
    "text_embeddings = embedding_model.embed_documents(texts)\n",
    "points = []\n",
    "for i, embed in enumerate(text_embeddings):\n",
    "    points.append(PointStruct(\n",
    "        id=str(uuid.uuid4()),\n",
    "        vector=embed,\n",
    "        payload={\"text\": texts[i]}\n",
    "    ))\n",
    "\n",
    "qdrant_client.upsert(collection_name=collection_name, points=points)\n",
    "print(f\"Indexed {len(points)} chunks into Qdrant.\")"
   ]
  },
  {
   "cell_type": "markdown",
   "metadata": {},
   "source": [
    "## 6. Query & Vector Search\n",
    "\n",
    "We pick a sample user query, embed it, then call `qdrant_client.search(...)` to get top matches from Qdrant.\n"
   ]
  },
  {
   "cell_type": "code",
   "execution_count": 6,
   "metadata": {},
   "outputs": [
    {
     "name": "stdout",
     "output_type": "stream",
     "text": [
      "--- Vector Store Results ---\n",
      "Result 1:\n",
      "Score: 0.55006707\n",
      "Text: Use of Alcohol:\n",
      "The Foundation does not provide funds for the purchaseof alcohol at Foundation sponsored activities. However,employees may consume alcohol if they so choose underthe following guidelin...\n",
      "\n",
      "Result 2:\n",
      "Score: 0.49573123\n",
      "Text: ● They are required to refrain from any unsafe practices or hazardous actions and to exercise due careand diligence.\n",
      "● Any unsafe conditions, materials or equipment andall accidents or injuries must b...\n",
      "\n",
      "Result 3:\n",
      "Score: 0.3858205\n",
      "Text: Procedures:\n",
      "1. The employee’s supervisor will implement progressivediscipline when addressing performance issues.\n",
      "2. If, through the application of progressive discipline, conduct or performance probl...\n",
      "\n",
      "Result 4:\n",
      "Score: 0.371737\n",
      "Text: SECTION 8\n",
      "Change of Status\n",
      "Resignation & Termination\n",
      "Having clear processes for when employees leave yourFoundation can mitigate legal risks andnegative feelings.\n",
      "Policy and Procedure Statement\n",
      "Employ...\n",
      "\n",
      "Result 5:\n",
      "Score: 0.36483353\n",
      "Text: SECTION 7\n",
      "Problem Resolution\n",
      "Progressive Discipline\n",
      "Employee discipline is a necessary evil for most employers. It’s never fun to do and can lead tounhappy employees.  Moreover, there is always theris...\n",
      "\n",
      "Result 6:\n",
      "Score: 0.35530502\n",
      "Text: Group Insurance Beneﬁts: note: if your foundation provides group insurance, enter the parameters into thisparagraph, including who pays the premium and whenthe group insurance starts for new employees...\n",
      "\n",
      "Result 7:\n",
      "Score: 0.34811288\n",
      "Text: Cell Phone Usage\n",
      "Policy and Procedure Statement\n",
      "The purpose of this policy is to outline the appropriateuse of personal cell phones during the courseof Foundation business. There is reference to provi...\n",
      "\n",
      "Result 8:\n",
      "Score: 0.34573007\n",
      "Text: Probationary Review\n",
      "No matter how robust the recruitment process, it isall too easy to employ someone whounderperforms or simply doesn’t ﬁt the organization. Having a probationary period gives you the...\n",
      "\n",
      "Result 9:\n",
      "Score: 0.34526092\n",
      "Text: SECTION 5\n",
      "Health and Safety\n",
      "Health and Safety\n",
      "Canadian health and safety legislation requires employersto have a health and safety program in theirworkplace. A written policy helps to promote an eﬀect...\n",
      "\n",
      "Result 10:\n",
      "Score: 0.33712363\n",
      "Text: requested on this basis, the Foundation may require the employee to temporarily transfer to an alternative positionwith equivalent pay and beneﬁts which better accommodatethe intermittent or leave sch...\n",
      "\n"
     ]
    }
   ],
   "source": [
    "query_text = \"What is the termination policy for drug use?\"\n",
    "query_embedding = embedding_model.embed_query(query_text)\n",
    "\n",
    "search_results = qdrant_client.search(\n",
    "    collection_name=collection_name,\n",
    "    query_vector=query_embedding,\n",
    "    limit=10\n",
    ")\n",
    "\n",
    "print(\"--- Vector Store Results ---\")\n",
    "for i, result in enumerate(search_results):\n",
    "    print(f\"Result {i+1}:\")\n",
    "    print(f\"Score: {result.score}\")\n",
    "    snippet = result.payload.get('text', '')[:200]\n",
    "    print(f\"Text: {snippet}...\\n\")\n"
   ]
  },
  {
   "cell_type": "markdown",
   "metadata": {},
   "source": [
    "## 7. Cross-Encoder Reranking\n",
    "\n",
    "We define a function `rerank_results` that uses the cross-encoder pipeline to reorder the top chunks by reading the query and each chunk text together.\n"
   ]
  },
  {
   "cell_type": "code",
   "execution_count": 7,
   "metadata": {},
   "outputs": [
    {
     "name": "stdout",
     "output_type": "stream",
     "text": [
      "--- Reranked Top 3 ---\n",
      "Score: 0.007, Original: 0.365\n",
      "Text: SECTION 7\n",
      "Problem Resolution\n",
      "Progressive Discipline\n",
      "Employee discipline is a necessary evil for most employers. It’s never fun to do and can lead tounhappy employees.  Moreover, there is always theris...\n",
      "\n",
      "Score: 0.005, Original: 0.345\n",
      "Text: SECTION 5\n",
      "Health and Safety\n",
      "Health and Safety\n",
      "Canadian health and safety legislation requires employersto have a health and safety program in theirworkplace. A written policy helps to promote an eﬀect...\n",
      "\n",
      "Score: 0.003, Original: 0.550\n",
      "Text: Use of Alcohol:\n",
      "The Foundation does not provide funds for the purchaseof alcohol at Foundation sponsored activities. However,employees may consume alcohol if they so choose underthe following guidelin...\n",
      "\n"
     ]
    }
   ],
   "source": [
    "def rerank_results(query, results, reranker, max_length=512, batch_size=8):\n",
    "    \"\"\"\n",
    "    Rerank results using a cross-encoder reranker model with batch processing and truncation.\n",
    "    \"\"\"\n",
    "    ranked_results = []\n",
    "    batched_inputs = []\n",
    "    original_data = []\n",
    "\n",
    "    for result in results:\n",
    "        text = result.payload.get(\"text\", \"\")\n",
    "        combined_input = f\"{query} [SEP] {text}\"\n",
    "        batched_inputs.append(combined_input)\n",
    "        original_data.append({\n",
    "            \"original_score\": result.score,\n",
    "            \"text\": text\n",
    "        })\n",
    "\n",
    "    for i in range(0, len(batched_inputs), batch_size):\n",
    "        batch = batched_inputs[i : i + batch_size]\n",
    "        try:\n",
    "            scores = reranker(batch, truncation=True, max_length=max_length)\n",
    "            for j, score in enumerate(scores):\n",
    "                ranked_results.append({\n",
    "                    \"score\": score[\"score\"],\n",
    "                    \"text\": original_data[i + j][\"text\"],\n",
    "                    \"original_score\": original_data[i + j][\"original_score\"],\n",
    "                })\n",
    "        except Exception as e:\n",
    "            print(f\"Error reranking batch {i // batch_size}: {str(e)}\")\n",
    "\n",
    "    ranked_results.sort(key=lambda x: x[\"score\"], reverse=True)\n",
    "    return ranked_results\n",
    "\n",
    "reranked_results = rerank_results(query_text, search_results, reranker)\n",
    "print(\"--- Reranked Top 3 ---\")\n",
    "for item in reranked_results[:3]:\n",
    "    print(f\"Score: {item['score']:.3f}, Original: {item['original_score']:.3f}\")\n",
    "    print(f\"Text: {item['text'][:200]}...\\n\")\n"
   ]
  },
  {
   "cell_type": "markdown",
   "metadata": {},
   "source": [
    "## 8. Expanded Context Filter\n",
    "\n",
    "We define a small function that picks top N chunks, then scans for additional chunks that are below a similarity threshold to ensure we’re not missing unique context.\n"
   ]
  },
  {
   "cell_type": "code",
   "execution_count": 8,
   "metadata": {},
   "outputs": [
    {
     "name": "stdout",
     "output_type": "stream",
     "text": [
      "Final context size: 8\n",
      "[1] Score: 0.007, Text snippet: SECTION 7\n",
      "Problem Resolution\n",
      "Progressive Discipline\n",
      "Employee discipline is a necessary evil for most employers. It’s never fun to do and can lead toun...\n",
      "\n",
      "[2] Score: 0.005, Text snippet: SECTION 5\n",
      "Health and Safety\n",
      "Health and Safety\n",
      "Canadian health and safety legislation requires employersto have a health and safety program in theirwor...\n",
      "\n",
      "[3] Score: 0.003, Text snippet: Use of Alcohol:\n",
      "The Foundation does not provide funds for the purchaseof alcohol at Foundation sponsored activities. However,employees may consume alc...\n",
      "\n",
      "[4] Score: 0.003, Text snippet: ● They are required to refrain from any unsafe practices or hazardous actions and to exercise due careand diligence.\n",
      "● Any unsafe conditions, material...\n",
      "\n",
      "[5] Score: 0.002, Text snippet: requested on this basis, the Foundation may require the employee to temporarily transfer to an alternative positionwith equivalent pay and beneﬁts whi...\n",
      "\n",
      "[6] Score: 0.002, Text snippet: Group Insurance Beneﬁts: note: if your foundation provides group insurance, enter the parameters into thisparagraph, including who pays the premium an...\n",
      "\n",
      "[7] Score: 0.001, Text snippet: Cell Phone Usage\n",
      "Policy and Procedure Statement\n",
      "The purpose of this policy is to outline the appropriateuse of personal cell phones during the courseo...\n",
      "\n",
      "[8] Score: 0.001, Text snippet: SECTION 8\n",
      "Change of Status\n",
      "Resignation & Termination\n",
      "Having clear processes for when employees leave yourFoundation can mitigate legal risks andnegati...\n",
      "\n"
     ]
    }
   ],
   "source": [
    "def expanded_context_filter(reranked_results, num_top_chunks=5, max_expansion=3, enrichment_threshold=0.85):\n",
    "    \"\"\"\n",
    "    Perform expanded context filtering by selecting top N chunks and including\n",
    "    contextually relevant surrounding chunks if they add unique value.\n",
    "    \"\"\"\n",
    "    if not reranked_results:\n",
    "        return []\n",
    "\n",
    "    top_chunks = reranked_results[:num_top_chunks]\n",
    "    expanded_context = top_chunks[:]\n",
    "    seen_texts = [chunk['text'] for chunk in top_chunks]\n",
    "    initial_embeddings = embedding_model.embed_documents(seen_texts)\n",
    "\n",
    "    for result in reranked_results[num_top_chunks:]:\n",
    "        if len(expanded_context) >= num_top_chunks + max_expansion:\n",
    "            break\n",
    "\n",
    "        new_text = result['text']\n",
    "        new_embedding = embedding_model.embed_query(new_text)\n",
    "        similarities = cosine_similarity([new_embedding], initial_embeddings).flatten()\n",
    "\n",
    "        if np.all(similarities < enrichment_threshold):\n",
    "            expanded_context.append(result)\n",
    "            initial_embeddings = np.vstack([initial_embeddings, new_embedding])\n",
    "\n",
    "    expanded_context = sorted(expanded_context, key=lambda x: x['score'], reverse=True)\n",
    "    return expanded_context\n",
    "\n",
    "final_context = expanded_context_filter(reranked_results, num_top_chunks=5, max_expansion=3, enrichment_threshold=0.85)\n",
    "print(f\"Final context size: {len(final_context)}\")\n",
    "for i, item in enumerate(final_context):\n",
    "    print(f\"[{i+1}] Score: {item['score']:.3f}, Text snippet: {item['text'][:150]}...\\n\")\n"
   ]
  },
  {
   "cell_type": "markdown",
   "metadata": {},
   "source": [
    "## 9. Building a System Prompt & Querying LLaMA\n",
    "\n",
    "We define a helper that formats these top context chunks into a single prompt, then calls the LLaMA model to get an answer. The prompt instructs the model to only answer with the given context or say “cannot be found.”\n"
   ]
  },
  {
   "cell_type": "code",
   "execution_count": 9,
   "metadata": {},
   "outputs": [
    {
     "name": "stderr",
     "output_type": "stream",
     "text": [
      "Setting `pad_token_id` to `eos_token_id`:128001 for open-end generation.\n"
     ]
    },
    {
     "name": "stdout",
     "output_type": "stream",
     "text": [
      "LLaMA Response:\n",
      "\n",
      "\n",
      "You are an expert AI assistant. Utilize the most relevant context sources provided to answer the user's question. Each source is separated by section headings or line breaks.\n",
      "If you did not find anything to answer with from the context provided, state that the answer cannot be found in the document.\n",
      "Answer the following question directly and informatively. Provide no more than one response.\n",
      "\n",
      "Context:\n",
      "SECTION 7\n",
      "Problem Resolution\n",
      "Progressive Discipline\n",
      "Employee discipline is a necessary evil for most employers. It’s never fun to do and can lead tounhappy employees.  Moreover, there is always therisk that discipline will lead to discrimination orother work-related claims, whether merited or not. But the long-term consequences of neglectingemployee discipline can soon outweigh the short-termdiscomfort of doing so.  Although there is not away to make employee discipline completely pain free, implementing a progressive discipline policycan help alleviate some of the discomfort.\n",
      "A progressive discipline policy provides many beneﬁtsto employers and employees.  Along with otherbeneﬁts, the policy provides structure and predictabilityto the discipline process, sets a basic set ofdiscipline standards for supervisors to follow, helpssupervisors document disciplinary actions and canbe instrumental in defeating discrimination, unemployment, and other work-related claims.\n",
      "The policy below is a best practice and it is advisablethat your Foundation check with legal counsel toensure that risk is mitigated and that the processis fair and transparent.\n",
      "Policy and Procedure Statement\n",
      "The Foundation will use progressive discipline forall employees whose performance requires improvement. Thepurpose of the process is to correct, not punish, those employees who have not followed Foundation guidingprinciples, policies and procedures. Consistent andfair procedures for progressive development giveemployeesample opportunity to improve.\n",
      "Deﬁnitions:\n",
      "Progressive discipline:\n",
      "● Emphasizes correction and establishes clear goalsto help employees change from unsatisfactoryperformance to satisfactory performance.\n",
      "● Focuses on the performance rather than the person.\n",
      "Policies and Procedures Template - Page37\n",
      "\n",
      "SECTION 5\n",
      "Health and Safety\n",
      "Health and Safety\n",
      "Canadian health and safety legislation requires employersto have a health and safety program in theirworkplace. A written policy helps to promote an eﬀectprogram. Such policy should reﬂect the specialneeds of the workplace and should be regularly reviewedand updated.\n",
      "Foundation’s should refer to their provincial Occupational Health and Safety regulations whendeveloping this policy, links to which can be foundin Appendix A.\n",
      "Policy and Procedure Statement\n",
      "The Foundation acknowledges it has a duty under thecurrent Occupational Health & Safety Legislation(insertappropriate name of provincial legislation) and Federal Labour Standards to take all reasonable precautionstoprotect all persons working on site, (employee, volunteers, board members, donors) and all visitors.\n",
      "Fire exits are located throughout the premises. Foreveryone’s own safety, all persons should be familiarwith thelocations of these exits and the most eﬃcient routeto exit in case of ﬁre.\n",
      "The Foundation will maintain all Statutory Healthand Safety practices and implement such others asare consistentwith the needs and position as a charitable organization. All persons when on site are required to refrainfrom anyactivity which may jeopardize the health and safetyof others.\n",
      "Employee, Volunteer and Contractors’ Rights\n",
      "There are three basic rights for employees, volunteersand contractors under the joint responsibility healthandsafety model:\n",
      "● The right to know about workplace safety hazards,\n",
      "● The right to refuse unsafe work if they have “reasonablecause to believe the work is dangerous”,\n",
      "● The right to participate in the occupational healthand safety process.\n",
      "Employee, Volunteer and Contractors’ Obligations\n",
      "Maintaining a safe work environment requires the continuouscooperation of all employees, volunteers andcontractors.\n",
      "● They must recognize that it is their duty to complywith all Health and Safety rules, regulations andguidelines.\n",
      "Policies and Procedures Template - Page26\n",
      "\n",
      "Use of Alcohol:\n",
      "The Foundation does not provide funds for the purchaseof alcohol at Foundation sponsored activities. However,employees may consume alcohol if they so choose underthe following guidelines:\n",
      "A. Employees are expected to make travel arrangementsat functions where they are representing theFoundation and at which they are consuming alcohol, such as: assign a designated driver, takealternate transportation, arrange to stay in a hotel\n",
      "B. An employee may be asked to stop consuming alcohol if it is believed they are exhibiting inappropriatebehaviour.\n",
      "Any employee found to be in violation of the precedingparagraph will be subject to disciplinary actionwhich mayinclude termination of employment.\n",
      "Policies and Procedures Template - Page28\n",
      "\n",
      "● They are required to refrain from any unsafe practices or hazardous actions and to exercise due careand diligence.\n",
      "● Any unsafe conditions, materials or equipment andall accidents or injuries must be reported to theED/CEO.\n",
      "Fitness for Duty\n",
      "This policy refers to the use of drugs and alcohol while on duty. There may be instances where thisispermitted. Given the legalization of cannabis, theclarity of this policy is critical. The policy belowprovides direction on when, and when not, such useis acceptable. FOundations need to reﬂect oneach of the statements to ensure that they complywith their values, principles and practices that areacceptable in their community.\n",
      "Policy and Procedure Statement\n",
      "All Foundation employees are required to:\n",
      "A. Come to work ﬁt for duty\n",
      "B. Take reasonable care to protect the health and safetyof themselves and others at all times\n",
      "C. Refrain from being impaired by alcohol, marijuanaand any other drugs while on duty\n",
      "D. Notify their supervisor if they suspect that a co-workeris unﬁt for duty\n",
      "E. Consume intoxicants in a responsible manner at all times when at Foundation events and otherfunctions where employees represent the Foundation.\n",
      "The Foundation will help and encourage employees whorecognize a problem by referring them to treatmentfacilities. Employees who would like additional informationregarding this matter should contact the ED/CEO. Allsuch inquiries will be treated with the utmost conﬁdence.\n",
      "Use of Illegal drugs:\n",
      "● The use, sale, purchase or possession of illegal drugswhile on the job or Foundation property is strictlyprohibited.\n",
      "● Employees may not report to work under the inﬂuenceof illegal drugs.\n",
      "● Employees are required to immediately notify the ED/CEOof any suspected instance of use,possession, or knowledge of someone under the inﬂuenceof such substances on Foundationproperty.\n",
      "In addition, any employees of the Foundation convictedof any drug-related crime must notify the ED/CEOwithinﬁve days of any such conviction.\n",
      "Policies and Procedures Template - Page27\n",
      "\n",
      "requested on this basis, the Foundation may require the employee to temporarily transfer to an alternative positionwith equivalent pay and beneﬁts which better accommodatethe intermittent or leave schedule.\n",
      "Medical/Disability Leave: An employee may be granteda medical leave because of a serious health conditionornon-work-related injury due to an accident. This leavecomplies with the Employment Standards Code. As acondition of the employee returning from a leave becauseof the employee’s own serious health condition, theFoundation may require medical certiﬁcation fromhis/her health care provider that the employee isable to resumework. This leave may be paid or unpaid according tothe short-term disability policy provisions for theFoundation.\n",
      "Pregnancy/Parental Leave: As per the Employment StandardsCode.\n",
      "Parental Leave for Birth and Adopting Parents: Asper the Employment Standards Code.\n",
      "Family Responsibility Leave: As per the EmploymentStandards Code.\n",
      "Bereavement Leave: As per the Employment StandardsCode.\n",
      "Compassionate Care Leave: As per the Employment StandardsCode.\n",
      "Bereavement Leave: As per the Employment StandardsCode.\n",
      "Jury Duty: As per the Employment Standards Code.\n",
      "Reservists’ Leave: As per the Employment StandardsCode.\n",
      "Sick Leave\n",
      "Sick days reduce turnover. Studies have shown thatcompanies that oﬀer paid sick leave see areduction in employee turnover somewhere between 3.61%to 6.43%. Low turnover maintainsconsistent productivity, boosts employee engagementand morale, and builds a sense of unitybetween staﬀ and managers. Foundations are encouragedto include this policy within their documentas it provides clarity for handling employee absencedue to illness. The following policy can form thebasis of one developed for your Foundation.\n",
      "Policy and Procedure Statement\n",
      "This policy applies to bona ﬁde non-occupational illnesses and injuries. The accumulation of sick leavetime allowscontinuation of full base pay plus beneﬁts when aneligible employee is required to be absent from workbecauseof non-occupational illnesses, injuries or medical conditions.\n",
      "Sick leave is accrued based on a staﬀ member’s regularlyscheduled hours of work. A full-time employee accruessick leave at the rate of ten days each calendar year. A regular part time employee accrues sick leave ona pro-ratabasis. Sick leave may not be carried over into a subsequentcalendar year and it cannot be cashed out as it hasnointrinsic cash value. Sick leave balances are notearned compensation nor are they payable at terminationofemployment. Sick leave is paid on a straight timebasis not to exceed the scheduled hours for the scheduledworkhours missed.\n",
      "Policies and Procedures Template - Page24\n",
      "\n",
      "Group Insurance Beneﬁts: note: if your foundation provides group insurance, enter the parameters into thisparagraph, including who pays the premium and whenthe group insurance starts for new employees.\n",
      "One component of the Group Insurance plan is an EmployeeAssistance Program which provides up to 12 hoursofface to face counseling per year, per employee.\n",
      "If the Foundation is still enrolled with the Chamberof Commerce Group Insurance Plan, upon retirement, executivestaﬀ, who have been enrolled in the plan for 2 yearsand who have been employed for 5 years, are eligibleto enrollin the Health and Dental beneﬁt program for retiringChambers of Commerce Insurance Plan for owners andprincipals. The premiums for this plan are the responsibilityof the retiring executive.\n",
      "RRSP: Upon successful completion of the probationaryperiod, full-time and part-time employees are entitledtoreceive a 4% contribution per pay period towards aself-directed RRSP. There is also an opportunityfor employeesto contribute to the same self-directed RRSP.\n",
      "Parking: Upon successful completion of the probationaryperiod, full-time employees are entitled to havetheirparking paid for by the Foundation. Part-time employeesare entitled to receive $40 per month towards parkingorbus pass (upon submission of receipts).\n",
      "Vacation\n",
      "Employees need a break from work every now and thenin order to maintain their physical and mentalhealth. A number of studies have shown that takingtime away from the job can have physical andpsychological health beneﬁts. People who take vacationhave lower stress, less risk of heart disease, abetter outlook on life, and more motivation to achievegoals. Taking vacations also provides employeesthe opportunity to get more sleep, which leads tobetter brain function and improved performanceupon their return.\n",
      "Foundations have a couple of options with respectto developing a vacation policy: pay vacation pay,or provide vacation time. Below are policy statementsreﬂecting both options. Foundations need todetermine costs and beneﬁts for each as they relateto their circumstances.\n",
      "Policy and Procedure Statement (paying vacation pay)\n",
      "All employees at the Foundation will earn vacationpay on all wages earned from the ﬁrst day of employment.\n",
      "After being employed for twelve months, an employeewill receive an annual vacation. After completingtwelvemonths of employment, an employee will have earnedten working days of annual vacation.. This meansthatstarting in the second year, an employee must takethe vacation earned in the year before.\n",
      "Employees shall be required to submit a completed“Leave Form” for vacation time.\n",
      "No vacation pay/time will be given in advance.\n",
      "Vacation will be granted on a combination of seniority, availability, and job coverage.\n",
      "Policies and Procedures Template - Page21\n",
      "\n",
      "Cell Phone Usage\n",
      "Policy and Procedure Statement\n",
      "The purpose of this policy is to outline the appropriateuse of personal cell phones during the courseof Foundation business. There is reference to provincial legislation. Foundations need to edit the textto refer to restrictions in their respective legislation. The text below was written for a Foundation inAlberta, and based on your location, this may needadjustments. As you’re crafting the policy, answerthe following question for each paragraph: Does thisalign with our culture and practices, and if not,what changes do we need to make?\n",
      "This policy applies to all Foundation personnel andapplies to any device that makes or receives phonecalls,leaves messages, sends text messages, surfs the Internet, or downloads and allows for the reading of andresponding to email whether the device is Foundation-suppliedor personally owned.\n",
      "In compliance with(insert reference to your provincial Highway Traﬃc Act) the Foundation prohibits itsemployeesfrom the following activities for business purposesrelated in any way to the organization, while driving.\n",
      "● the use of hand-held cell phones, texting or e-mailing, using electronic devices like laptop computers,video games, cameras, video entertainment displaysand programming portable audio players (e.g.:MP3 players), entering information on GPS units, readingprinted materials in the vehicle, writing,printing or sketching, and, personal grooming(ensurethat this text aligns with provincial regulations)\n",
      "This prohibition of cell phone or similar device usewhile driving includes receiving or placing calls, text messaging,surﬁng the Internet, receiving or responding to email, checking for phone messages, or any other purposerelatedto one’s employment; the business; customers; vendors; volunteer activities, meetings, or civic responsibilitiesperformed for or attended in the name of the Foundation; or any other Foundation related activities not namedhere while driving.\n",
      "It is recognized that other distractions occur duringdriving, however the use of cell phones, while driving, is strictlyprohibited by the Foundation. Therefore, employeesare required to stop their vehicle in a safe locationso that theycan safely use a cell phone or similar device.\n",
      "The Foundation is aware that employees utilize theirpersonal cellular phones for business purposes. Atthe sametime, cell phones are a distraction in the workplace. To ensure the eﬀectiveness of meetings, and as aprofessionalcourtesy to others, employees are asked to leave cell phones at their desk. Or, on the unusual occasionof anemergency or anticipated emergency that requires immediateattention, the cell phone may be carried to themeeting on vibrate mode.\n",
      "Policies and Procedures Template - Page18\n",
      "\n",
      "SECTION 8\n",
      "Change of Status\n",
      "Resignation & Termination\n",
      "Having clear processes for when employees leave yourFoundation can mitigate legal risks andnegative feelings.\n",
      "Policy and Procedure Statement\n",
      "Employees are requested to provide written noticeto their immediate supervisor of their intended resignation.\n",
      "Employees giving notice or receiving notice of terminationwill receive a record of employment, together withallwages outstanding, including any vacation pay accrued.\n",
      "All cases of employer termination shall comply withprovincial/federal employment standards legislation.\n",
      "Issuing References\n",
      "No opinions on an employee’s competency or qualiﬁcationsshould come through a reference. Onlystandard issue HR information should be in the reference. True, the diﬃcult burden of proving a formeremployee didn’t get a new job because of your referencelies with the employee, but a disgruntledemployee could still make you litigate or alternativelythe new employer could sue if the old managerdidn’t mention something important.  Having a neutral policy that applies to everyone means that yourBoard and lawyer sleep better at night.\n",
      "Policy and Procedure Statement\n",
      "It is the policy of the Foundation to respect theconﬁdentiality of employee records and thereforediscretion andsensitivity are used when issuing references and employeeveriﬁcation.\n",
      "Procedure:\n",
      "Letters of reference will be issued at the requestof the employee and will include employee name, title, dates ofemployment, a brief overview of key tasks and accomplishments, and rate of pay (if requested by employee).\n",
      "Policies and Procedures Template - Page41\n",
      "\n",
      "Question: What is the termination policy for drug use?\n",
      "Answer:\n",
      "The termination policy for drug use is not explicitly stated in the provided context. However, it is mentioned that employees who are convicted of any drug-related crime must notify the ED/CEO within five days of such conviction, and the Foundation may require the employee to temporarily transfer to an alternative position with equivalent pay and benefits. This suggests that the Foundation may take disciplinary action against employees who misuse drugs, but the specific policy for termination due to drug use is not outlined.\n"
     ]
    }
   ],
   "source": [
    "from typing import List\n",
    "\n",
    "SYSTEM_PROMPT = \"\"\"\n",
    "You are an expert AI assistant. Utilize the most relevant context sources provided to answer the user's question. Each source is separated by section headings or line breaks.\n",
    "If you did not find anything to answer with from the context provided, state that the answer cannot be found in the document.\n",
    "Answer the following question directly and informatively. Provide no more than one response.\n",
    "\n",
    "Context:\n",
    "{context}\n",
    "\n",
    "Question: {question}\n",
    "Answer:\n",
    "\"\"\"\n",
    "\n",
    "def format_documents(final_context: List[dict]) -> str:\n",
    "    return \"\\n\\n\".join([doc['text'] for doc in final_context])\n",
    "\n",
    "def query_llama(model, tokenizer, context: List[dict], question: str) -> str:\n",
    "    formatted_context = format_documents(context)\n",
    "    prompt = SYSTEM_PROMPT.format(context=formatted_context, question=question)\n",
    "\n",
    "    inputs = tokenizer(prompt, return_tensors=\"pt\").to(device)\n",
    "    outputs = model.generate(\n",
    "        input_ids=inputs['input_ids'],\n",
    "        attention_mask=inputs['attention_mask'],\n",
    "        max_new_tokens=400,\n",
    "        num_return_sequences=1,\n",
    "        temperature=0.3,\n",
    "        top_p=0.9\n",
    "    )\n",
    "\n",
    "    return tokenizer.decode(outputs[0], skip_special_tokens=True)\n",
    "\n",
    "question = \"What is the termination policy for drug use?\"\n",
    "response = query_llama(model, tokenizer, final_context, question)\n",
    "print(\"LLaMA Response:\\n\")\n",
    "print(response)\n"
   ]
  },
  {
   "cell_type": "markdown",
   "metadata": {},
   "source": [
    "## Conclusion\n",
    "\n",
    "We’ve shown an entire pipeline from PDF ingestion to LLaMA Q&A. You can further adapt or extend:\n",
    "\n",
    "- Use additional retrieval strategies.\n",
    "- Switch to a different LLM if needed (OpenAI, local GPT-J, etc.).\n",
    "Note that the conversation memory for a full chat experience is added to the Flask app.\n",
    "\n",
    "Happy experimenting!\n"
   ]
  }
 ],
 "metadata": {
  "kernelspec": {
   "display_name": "Python 3",
   "language": "python",
   "name": "python3"
  },
  "language_info": {
   "codemirror_mode": {
    "name": "ipython",
    "version": 3
   },
   "file_extension": ".py",
   "mimetype": "text/x-python",
   "name": "python",
   "nbconvert_exporter": "python",
   "pygments_lexer": "ipython3",
   "version": "3.10.11"
  }
 },
 "nbformat": 4,
 "nbformat_minor": 2
}
